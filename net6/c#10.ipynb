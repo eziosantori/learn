{
 "cells": [
  {
   "cell_type": "markdown",
   "metadata": {},
   "source": [
    "# New Features in a Nutshell (most relevant)\n",
    "[microsoft docs](https://learn.microsoft.com/en-us/dotnet/csharp/whats-new/csharp-10)\n",
    "- Global using statment\n",
    "- File-Scoped namespaces\n",
    "- Extend property patterns\n",
    "- Structure type changes\n",
    "- Const interpolated strings\n",
    "- Changes to record\n",
    "- Assignament and declaration in same deconstruction\n",
    "- AsyncMethodBuilder attribute on methods possible"
   ]
  },
  {
   "cell_type": "code",
   "execution_count": null,
   "metadata": {
    "dotnet_interactive": {
     "language": "csharp"
    },
    "polyglot_notebook": {
     "kernelName": "csharp"
    }
   },
   "outputs": [],
   "source": [
    "global using System;\n",
    "// tips, place in a single file\n",
    "\n",
    "/*\n",
    "Implicit usig, definition in the xml project file\n",
    "<ImplicitUsing>true</ImplicitUsing>\n",
    "It includes automatically the most common namespace\n",
    "*/\n"
   ]
  },
  {
   "cell_type": "code",
   "execution_count": null,
   "metadata": {
    "dotnet_interactive": {
     "language": "csharp"
    },
    "polyglot_notebook": {
     "kernelName": "csharp"
    }
   },
   "outputs": [],
   "source": [
    "// File Scoped namespace\n",
    "// namespace MyNamescapce;\n",
    "public class TheClass {\n",
    "\n",
    "}"
   ]
  },
  {
   "cell_type": "code",
   "execution_count": null,
   "metadata": {
    "dotnet_interactive": {
     "language": "csharp"
    },
    "polyglot_notebook": {
     "kernelName": "csharp"
    }
   },
   "outputs": [],
   "source": [
    "// const string interpolations\n",
    "const string folderPath = \"/docs\";\n",
    "// const string logFilePath = folderPath + \"/log.txt\"; pre C#10\n",
    "const string logFilePath = $\"{folderPath}/log.txt\"; //NOw"
   ]
  },
  {
   "cell_type": "markdown",
   "metadata": {},
   "source": [
    "## DateOnly - TimeOnly"
   ]
  },
  {
   "cell_type": "code",
   "execution_count": 2,
   "metadata": {
    "dotnet_interactive": {
     "language": "csharp"
    },
    "polyglot_notebook": {
     "kernelName": "csharp"
    }
   },
   "outputs": [
    {
     "name": "stdout",
     "output_type": "stream",
     "text": [
      "07/14/2023\n",
      "Friday, 14 July 2023\n",
      "07/14/2023\n",
      "07/14/2024\n",
      "09:00\n",
      "00:30:25\n",
      "True\n"
     ]
    }
   ],
   "source": [
    "var myDate = new DateOnly(2023,7,14);\n",
    "Console.WriteLine(myDate);\n",
    "Console.WriteLine(myDate.ToLongDateString());\n",
    "\n",
    "var today = DateOnly.FromDateTime(DateTime.Now);\n",
    "Console.WriteLine(today);\n",
    "\n",
    "var oneYearFromToday = today.AddYears(1);\n",
    "Console.WriteLine(oneYearFromToday);\n",
    "\n",
    "var myTime = new TimeOnly(9,0);\n",
    "Console.WriteLine(myTime);\n",
    "\n",
    "var startTime = new TimeOnly(10,0);\n",
    "var endTime = new TimeOnly(10,30,25);\n",
    "var diffTime= endTime - startTime;\n",
    "Console.WriteLine(diffTime);\n",
    "Console.WriteLine(endTime > startTime);\n",
    "\n",
    "\n"
   ]
  },
  {
   "cell_type": "code",
   "execution_count": 4,
   "metadata": {
    "dotnet_interactive": {
     "language": "csharp"
    },
    "polyglot_notebook": {
     "kernelName": "csharp"
    }
   },
   "outputs": [
    {
     "name": "stdout",
     "output_type": "stream",
     "text": [
      "1438\n"
     ]
    }
   ],
   "source": [
    "// Process Path and process ID\n",
    "int processId = Environment.ProcessId;\n",
    "var path = Environment.ProcessPath;\n",
    "\n",
    "Console.WriteLine(processId.ToString(), path);\n"
   ]
  },
  {
   "cell_type": "markdown",
   "metadata": {},
   "source": [
    "# New LINQ Methods"
   ]
  },
  {
   "cell_type": "code",
   "execution_count": 1,
   "metadata": {
    "dotnet_interactive": {
     "language": "csharp"
    },
    "polyglot_notebook": {
     "kernelName": "csharp"
    }
   },
   "outputs": [
    {
     "name": "stdout",
     "output_type": "stream",
     "text": [
      "Chunk 1:\n",
      "    0\n",
      "    1\n",
      "    2\n",
      "\n",
      "Chunk 2:\n",
      "    3\n",
      "    4\n",
      "    5\n",
      "\n",
      "Chunk 3:\n",
      "    6\n",
      "    7\n",
      "\n"
     ]
    }
   ],
   "source": [
    "// CHUNK\n",
    "int chunkNumber = 1;\n",
    "foreach (int[] chunk in Enumerable.Range(0, 8).Chunk(3))\n",
    "{\n",
    "    Console.WriteLine($\"Chunk {chunkNumber++}:\");\n",
    "    foreach (int item in chunk)\n",
    "    {\n",
    "        Console.WriteLine($\"    {item}\");\n",
    "    }\n",
    "\n",
    "    Console.WriteLine();\n",
    "}"
   ]
  },
  {
   "cell_type": "code",
   "execution_count": 13,
   "metadata": {
    "dotnet_interactive": {
     "language": "csharp"
    },
    "polyglot_notebook": {
     "kernelName": "csharp"
    }
   },
   "outputs": [
    {
     "name": "stdout",
     "output_type": "stream",
     "text": [
      "Person { Name = Roberto, Age = 30 }\n",
      "Person { Name = Bustro, Age = 15 }\n"
     ]
    }
   ],
   "source": [
    "// MaxBy - MinBy\n",
    "public record Person(string Name, int Age);\n",
    "var people = new Person[]{new Person(\"Alessandro\", 21), new Person(\"Roberto\", 30), new Person(\"Bustro\", 15)};\n",
    "Console.WriteLine(people.MaxBy(p => p.Age));\n",
    "Console.WriteLine(people.MinBy(p => p.Age));"
   ]
  },
  {
   "cell_type": "markdown",
   "metadata": {},
   "source": [
    "## ThrowIfNull, New Timer"
   ]
  },
  {
   "cell_type": "code",
   "execution_count": null,
   "metadata": {
    "dotnet_interactive": {
     "language": "csharp"
    },
    "polyglot_notebook": {
     "kernelName": "csharp"
    }
   },
   "outputs": [],
   "source": [
    "void aMethod (object obj) {    \n",
    "    ArgumentNullException.ThrowIfNull(obj);\n",
    "}\n",
    "\n",
    "var timer = new System.Threading.PeriodicTimer(TimeSpan.FromSeconds(1));\n",
    "var count=1;\n",
    "while (await timer.WaitForNextTickAsync()){\n",
    " // do some stuff\n",
    "    Console.WriteLine(count);\n",
    "    if(count > 10)\n",
    "        break;\n",
    "    count ++;\n",
    "}"
   ]
  },
  {
   "cell_type": "code",
   "execution_count": 4,
   "metadata": {
    "dotnet_interactive": {
     "language": "csharp"
    },
    "polyglot_notebook": {
     "kernelName": "csharp"
    }
   },
   "outputs": [
    {
     "name": "stdout",
     "output_type": "stream",
     "text": [
      "OK\n",
      "OK\n"
     ]
    }
   ],
   "source": [
    "var urls = new[] {\n",
    "  \"https://restcountries.com/v3.1/all?fields=name,flags\",\n",
    "  \"https://api.publicapis.org/entries\"\n",
    "};\n",
    "var client = new System.Net.Http.HttpClient();\n",
    "await Parallel.ForEachAsync(urls, async (url, token) =>\n",
    "{\n",
    "  var resp = await client.GetAsync(url);\n",
    "  Console.WriteLine(resp.StatusCode);\n",
    "});"
   ]
  }
 ],
 "metadata": {
  "kernelspec": {
   "display_name": ".NET (C#)",
   "language": "C#",
   "name": ".net-csharp"
  },
  "language_info": {
   "name": "polyglot-notebook"
  },
  "polyglot_notebook": {
   "kernelInfo": {
    "defaultKernelName": "csharp",
    "items": [
     {
      "aliases": [],
      "languageName": "csharp",
      "name": "csharp"
     }
    ]
   }
  }
 },
 "nbformat": 4,
 "nbformat_minor": 2
}
